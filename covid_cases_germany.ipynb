{
 "cells": [
  {
   "cell_type": "code",
   "execution_count": 112,
   "metadata": {},
   "outputs": [],
   "source": [
    "import numpy as np\n",
    "import pandas as pd\n",
    "import matplotlib.pyplot as plt\n",
    "\n",
    "%matplotlib inline"
   ]
  },
  {
   "cell_type": "code",
   "execution_count": 312,
   "metadata": {},
   "outputs": [
    {
     "data": {
      "text/html": [
       "<div>\n",
       "<style scoped>\n",
       "    .dataframe tbody tr th:only-of-type {\n",
       "        vertical-align: middle;\n",
       "    }\n",
       "\n",
       "    .dataframe tbody tr th {\n",
       "        vertical-align: top;\n",
       "    }\n",
       "\n",
       "    .dataframe thead th {\n",
       "        text-align: right;\n",
       "    }\n",
       "</style>\n",
       "<table border=\"1\" class=\"dataframe\">\n",
       "  <thead>\n",
       "    <tr style=\"text-align: right;\">\n",
       "      <th></th>\n",
       "      <th>FID</th>\n",
       "      <th>IdBundesland</th>\n",
       "      <th>Bundesland</th>\n",
       "      <th>Landkreis</th>\n",
       "      <th>Altersgruppe</th>\n",
       "      <th>Geschlecht</th>\n",
       "      <th>AnzahlFall</th>\n",
       "      <th>AnzahlTodesfall</th>\n",
       "      <th>Meldedatum</th>\n",
       "      <th>IdLandkreis</th>\n",
       "      <th>Datenstand</th>\n",
       "      <th>NeuerFall</th>\n",
       "      <th>NeuerTodesfall</th>\n",
       "      <th>Refdatum</th>\n",
       "      <th>NeuGenesen</th>\n",
       "      <th>AnzahlGenesen</th>\n",
       "      <th>IstErkrankungsbeginn</th>\n",
       "      <th>Altersgruppe2</th>\n",
       "    </tr>\n",
       "  </thead>\n",
       "  <tbody>\n",
       "    <tr>\n",
       "      <th>0</th>\n",
       "      <td>1</td>\n",
       "      <td>1</td>\n",
       "      <td>Schleswig-Holstein</td>\n",
       "      <td>SK Flensburg</td>\n",
       "      <td>A00-A04</td>\n",
       "      <td>M</td>\n",
       "      <td>1</td>\n",
       "      <td>0</td>\n",
       "      <td>2020/09/30 00:00:00</td>\n",
       "      <td>1001</td>\n",
       "      <td>17.11.2020, 00:00 Uhr</td>\n",
       "      <td>0</td>\n",
       "      <td>-9</td>\n",
       "      <td>2020/09/30 00:00:00</td>\n",
       "      <td>0</td>\n",
       "      <td>1</td>\n",
       "      <td>0</td>\n",
       "      <td>Nicht übermittelt</td>\n",
       "    </tr>\n",
       "    <tr>\n",
       "      <th>1</th>\n",
       "      <td>2</td>\n",
       "      <td>1</td>\n",
       "      <td>Schleswig-Holstein</td>\n",
       "      <td>SK Flensburg</td>\n",
       "      <td>A00-A04</td>\n",
       "      <td>M</td>\n",
       "      <td>1</td>\n",
       "      <td>0</td>\n",
       "      <td>2020/10/29 00:00:00</td>\n",
       "      <td>1001</td>\n",
       "      <td>17.11.2020, 00:00 Uhr</td>\n",
       "      <td>0</td>\n",
       "      <td>-9</td>\n",
       "      <td>2020/10/29 00:00:00</td>\n",
       "      <td>0</td>\n",
       "      <td>1</td>\n",
       "      <td>0</td>\n",
       "      <td>Nicht übermittelt</td>\n",
       "    </tr>\n",
       "    <tr>\n",
       "      <th>2</th>\n",
       "      <td>3</td>\n",
       "      <td>1</td>\n",
       "      <td>Schleswig-Holstein</td>\n",
       "      <td>SK Flensburg</td>\n",
       "      <td>A00-A04</td>\n",
       "      <td>M</td>\n",
       "      <td>1</td>\n",
       "      <td>0</td>\n",
       "      <td>2020/11/03 00:00:00</td>\n",
       "      <td>1001</td>\n",
       "      <td>17.11.2020, 00:00 Uhr</td>\n",
       "      <td>0</td>\n",
       "      <td>-9</td>\n",
       "      <td>2020/11/03 00:00:00</td>\n",
       "      <td>1</td>\n",
       "      <td>1</td>\n",
       "      <td>0</td>\n",
       "      <td>Nicht übermittelt</td>\n",
       "    </tr>\n",
       "    <tr>\n",
       "      <th>3</th>\n",
       "      <td>4</td>\n",
       "      <td>1</td>\n",
       "      <td>Schleswig-Holstein</td>\n",
       "      <td>SK Flensburg</td>\n",
       "      <td>A00-A04</td>\n",
       "      <td>W</td>\n",
       "      <td>1</td>\n",
       "      <td>0</td>\n",
       "      <td>2020/08/24 00:00:00</td>\n",
       "      <td>1001</td>\n",
       "      <td>17.11.2020, 00:00 Uhr</td>\n",
       "      <td>0</td>\n",
       "      <td>-9</td>\n",
       "      <td>2020/08/24 00:00:00</td>\n",
       "      <td>0</td>\n",
       "      <td>1</td>\n",
       "      <td>0</td>\n",
       "      <td>Nicht übermittelt</td>\n",
       "    </tr>\n",
       "    <tr>\n",
       "      <th>4</th>\n",
       "      <td>5</td>\n",
       "      <td>1</td>\n",
       "      <td>Schleswig-Holstein</td>\n",
       "      <td>SK Flensburg</td>\n",
       "      <td>A00-A04</td>\n",
       "      <td>W</td>\n",
       "      <td>1</td>\n",
       "      <td>0</td>\n",
       "      <td>2020/09/26 00:00:00</td>\n",
       "      <td>1001</td>\n",
       "      <td>17.11.2020, 00:00 Uhr</td>\n",
       "      <td>0</td>\n",
       "      <td>-9</td>\n",
       "      <td>2020/09/26 00:00:00</td>\n",
       "      <td>0</td>\n",
       "      <td>1</td>\n",
       "      <td>0</td>\n",
       "      <td>Nicht übermittelt</td>\n",
       "    </tr>\n",
       "  </tbody>\n",
       "</table>\n",
       "</div>"
      ],
      "text/plain": [
       "   FID  IdBundesland          Bundesland     Landkreis Altersgruppe  \\\n",
       "0    1             1  Schleswig-Holstein  SK Flensburg      A00-A04   \n",
       "1    2             1  Schleswig-Holstein  SK Flensburg      A00-A04   \n",
       "2    3             1  Schleswig-Holstein  SK Flensburg      A00-A04   \n",
       "3    4             1  Schleswig-Holstein  SK Flensburg      A00-A04   \n",
       "4    5             1  Schleswig-Holstein  SK Flensburg      A00-A04   \n",
       "\n",
       "  Geschlecht  AnzahlFall  AnzahlTodesfall           Meldedatum  IdLandkreis  \\\n",
       "0          M           1                0  2020/09/30 00:00:00         1001   \n",
       "1          M           1                0  2020/10/29 00:00:00         1001   \n",
       "2          M           1                0  2020/11/03 00:00:00         1001   \n",
       "3          W           1                0  2020/08/24 00:00:00         1001   \n",
       "4          W           1                0  2020/09/26 00:00:00         1001   \n",
       "\n",
       "              Datenstand  NeuerFall  NeuerTodesfall             Refdatum  \\\n",
       "0  17.11.2020, 00:00 Uhr          0              -9  2020/09/30 00:00:00   \n",
       "1  17.11.2020, 00:00 Uhr          0              -9  2020/10/29 00:00:00   \n",
       "2  17.11.2020, 00:00 Uhr          0              -9  2020/11/03 00:00:00   \n",
       "3  17.11.2020, 00:00 Uhr          0              -9  2020/08/24 00:00:00   \n",
       "4  17.11.2020, 00:00 Uhr          0              -9  2020/09/26 00:00:00   \n",
       "\n",
       "   NeuGenesen  AnzahlGenesen  IstErkrankungsbeginn      Altersgruppe2  \n",
       "0           0              1                     0  Nicht übermittelt  \n",
       "1           0              1                     0  Nicht übermittelt  \n",
       "2           1              1                     0  Nicht übermittelt  \n",
       "3           0              1                     0  Nicht übermittelt  \n",
       "4           0              1                     0  Nicht übermittelt  "
      ]
     },
     "execution_count": 312,
     "metadata": {},
     "output_type": "execute_result"
    }
   ],
   "source": [
    "# import covid infection data from germany\n",
    "# obtained from Robert Koch Institut (RKI)\n",
    "# data licensed under DL-DE->BY-2.0\n",
    "# http://www.govdata.de/dl-de/by-2-0\n",
    "\n",
    "df = pd.read_csv('RKI_COVID19.csv')\n",
    "df.head()"
   ]
  },
  {
   "cell_type": "code",
   "execution_count": 310,
   "metadata": {},
   "outputs": [],
   "source": [
    "#Translation of column names to english\n",
    "df.rename(columns={\"IdBundesland\": \"IdState\", \"Bundesland\":\"State\", \"Landkreis\":\"County\", \"Altersgruppe\":\"AgeGroup\", \n",
    "                   \"Geschlecht\":\"Sex\", \"AnzahlFall\":\"CaseNumber\", \"AnzahlTodesfall\":\"DeathNumber\", \n",
    "                  \"Meldedatum\":\"DateOfNotice\", \"IdLandkreis\":\"IdCounty\", \"Datenstand\":\"LastUpdated\", \n",
    "                   \"NeuerFall\":\"NewCase\", \"NeuerTodesfall\":\"NewDeath\", \"Refdatum\":\"ReferenceDate\", \"NeuGenesen\":\"NewRecovered\", \n",
    "                   \"AnzahlGenesen\":\"RecoveredNumber\", \"IstErkrankungsbeginn\":\"IsDayofSickening\", \"Altersgruppe2\":\"AgeGroup2\"\n",
    "                  }, inplace=True)\n",
    "\n",
    "# drop redundant data and columns w/o relevant information for this project\n",
    "try:\n",
    "    df.drop(labels=[\"FID\", \"State\", \"County\", \"LastUpdated\", \"AgeGroup2\", \"NewCase\", \"NewDeath\", \"NewRecovered\", \"RecoveredNumber\"], axis=1, inplace=True)\n",
    "except Exception:\n",
    "    pass"
   ]
  },
  {
   "cell_type": "code",
   "execution_count": 311,
   "metadata": {},
   "outputs": [
    {
     "data": {
      "text/html": [
       "<div>\n",
       "<style scoped>\n",
       "    .dataframe tbody tr th:only-of-type {\n",
       "        vertical-align: middle;\n",
       "    }\n",
       "\n",
       "    .dataframe tbody tr th {\n",
       "        vertical-align: top;\n",
       "    }\n",
       "\n",
       "    .dataframe thead th {\n",
       "        text-align: right;\n",
       "    }\n",
       "</style>\n",
       "<table border=\"1\" class=\"dataframe\">\n",
       "  <thead>\n",
       "    <tr style=\"text-align: right;\">\n",
       "      <th></th>\n",
       "      <th>IdState</th>\n",
       "      <th>AgeGroup</th>\n",
       "      <th>Sex</th>\n",
       "      <th>CaseNumber</th>\n",
       "      <th>DeathNumber</th>\n",
       "      <th>DateOfNotice</th>\n",
       "      <th>IdCounty</th>\n",
       "      <th>ReferenceDate</th>\n",
       "      <th>IsDayofSickening</th>\n",
       "    </tr>\n",
       "  </thead>\n",
       "  <tbody>\n",
       "    <tr>\n",
       "      <th>0</th>\n",
       "      <td>1</td>\n",
       "      <td>A00-A04</td>\n",
       "      <td>M</td>\n",
       "      <td>1</td>\n",
       "      <td>0</td>\n",
       "      <td>2020/09/30 00:00:00</td>\n",
       "      <td>1001</td>\n",
       "      <td>2020/09/30 00:00:00</td>\n",
       "      <td>0</td>\n",
       "    </tr>\n",
       "    <tr>\n",
       "      <th>1</th>\n",
       "      <td>1</td>\n",
       "      <td>A00-A04</td>\n",
       "      <td>M</td>\n",
       "      <td>1</td>\n",
       "      <td>0</td>\n",
       "      <td>2020/10/29 00:00:00</td>\n",
       "      <td>1001</td>\n",
       "      <td>2020/10/29 00:00:00</td>\n",
       "      <td>0</td>\n",
       "    </tr>\n",
       "    <tr>\n",
       "      <th>2</th>\n",
       "      <td>1</td>\n",
       "      <td>A00-A04</td>\n",
       "      <td>M</td>\n",
       "      <td>1</td>\n",
       "      <td>0</td>\n",
       "      <td>2020/11/03 00:00:00</td>\n",
       "      <td>1001</td>\n",
       "      <td>2020/11/03 00:00:00</td>\n",
       "      <td>0</td>\n",
       "    </tr>\n",
       "    <tr>\n",
       "      <th>3</th>\n",
       "      <td>1</td>\n",
       "      <td>A00-A04</td>\n",
       "      <td>W</td>\n",
       "      <td>1</td>\n",
       "      <td>0</td>\n",
       "      <td>2020/08/24 00:00:00</td>\n",
       "      <td>1001</td>\n",
       "      <td>2020/08/24 00:00:00</td>\n",
       "      <td>0</td>\n",
       "    </tr>\n",
       "    <tr>\n",
       "      <th>4</th>\n",
       "      <td>1</td>\n",
       "      <td>A00-A04</td>\n",
       "      <td>W</td>\n",
       "      <td>1</td>\n",
       "      <td>0</td>\n",
       "      <td>2020/09/26 00:00:00</td>\n",
       "      <td>1001</td>\n",
       "      <td>2020/09/26 00:00:00</td>\n",
       "      <td>0</td>\n",
       "    </tr>\n",
       "  </tbody>\n",
       "</table>\n",
       "</div>"
      ],
      "text/plain": [
       "   IdState AgeGroup Sex  CaseNumber  DeathNumber         DateOfNotice  \\\n",
       "0        1  A00-A04   M           1            0  2020/09/30 00:00:00   \n",
       "1        1  A00-A04   M           1            0  2020/10/29 00:00:00   \n",
       "2        1  A00-A04   M           1            0  2020/11/03 00:00:00   \n",
       "3        1  A00-A04   W           1            0  2020/08/24 00:00:00   \n",
       "4        1  A00-A04   W           1            0  2020/09/26 00:00:00   \n",
       "\n",
       "   IdCounty        ReferenceDate  IsDayofSickening  \n",
       "0      1001  2020/09/30 00:00:00                 0  \n",
       "1      1001  2020/10/29 00:00:00                 0  \n",
       "2      1001  2020/11/03 00:00:00                 0  \n",
       "3      1001  2020/08/24 00:00:00                 0  \n",
       "4      1001  2020/09/26 00:00:00                 0  "
      ]
     },
     "execution_count": 311,
     "metadata": {},
     "output_type": "execute_result"
    }
   ],
   "source": [
    "df.head()"
   ]
  },
  {
   "cell_type": "code",
   "execution_count": 50,
   "metadata": {},
   "outputs": [
    {
     "data": {
      "text/plain": [
       "str"
      ]
     },
     "execution_count": 50,
     "metadata": {},
     "output_type": "execute_result"
    }
   ],
   "source": [
    "type(df['DateOfNotice'][0])"
   ]
  },
  {
   "cell_type": "code",
   "execution_count": 53,
   "metadata": {},
   "outputs": [],
   "source": [
    "df_new = df.copy()"
   ]
  },
  {
   "cell_type": "code",
   "execution_count": 59,
   "metadata": {},
   "outputs": [],
   "source": [
    "df_new['DateOfNotice'] = pd.to_datetime(df_new['DateOfNotice'], yearfirst=True)\n",
    "df_new['ReferenceDate'] = pd.to_datetime(df_new['ReferenceDate'], yearfirst=True)"
   ]
  },
  {
   "cell_type": "code",
   "execution_count": 56,
   "metadata": {},
   "outputs": [
    {
     "name": "stdout",
     "output_type": "stream",
     "text": [
      "<class 'pandas.core.frame.DataFrame'>\n",
      "RangeIndex: 481678 entries, 0 to 481677\n",
      "Data columns (total 13 columns):\n",
      " #   Column            Non-Null Count   Dtype         \n",
      "---  ------            --------------   -----         \n",
      " 0   IdState           481678 non-null  int64         \n",
      " 1   AgeGroup          481678 non-null  object        \n",
      " 2   Sex               481678 non-null  object        \n",
      " 3   CaseNumber        481678 non-null  int64         \n",
      " 4   DeathNumber       481678 non-null  int64         \n",
      " 5   DateOfNotice      481678 non-null  datetime64[ns]\n",
      " 6   IdCounty          481678 non-null  int64         \n",
      " 7   NewCase           481678 non-null  int64         \n",
      " 8   NewDeath          481678 non-null  int64         \n",
      " 9   ReferenceDate     481678 non-null  object        \n",
      " 10  NewRecovered      481678 non-null  int64         \n",
      " 11  RecoveredNumber   481678 non-null  int64         \n",
      " 12  IsDayofSickening  481678 non-null  int64         \n",
      "dtypes: datetime64[ns](1), int64(9), object(3)\n",
      "memory usage: 47.8+ MB\n"
     ]
    }
   ],
   "source": [
    "df_new.info()"
   ]
  },
  {
   "cell_type": "code",
   "execution_count": 57,
   "metadata": {},
   "outputs": [
    {
     "data": {
      "text/html": [
       "<div>\n",
       "<style scoped>\n",
       "    .dataframe tbody tr th:only-of-type {\n",
       "        vertical-align: middle;\n",
       "    }\n",
       "\n",
       "    .dataframe tbody tr th {\n",
       "        vertical-align: top;\n",
       "    }\n",
       "\n",
       "    .dataframe thead th {\n",
       "        text-align: right;\n",
       "    }\n",
       "</style>\n",
       "<table border=\"1\" class=\"dataframe\">\n",
       "  <thead>\n",
       "    <tr style=\"text-align: right;\">\n",
       "      <th></th>\n",
       "      <th>IdState</th>\n",
       "      <th>AgeGroup</th>\n",
       "      <th>Sex</th>\n",
       "      <th>CaseNumber</th>\n",
       "      <th>DeathNumber</th>\n",
       "      <th>DateOfNotice</th>\n",
       "      <th>IdCounty</th>\n",
       "      <th>NewCase</th>\n",
       "      <th>NewDeath</th>\n",
       "      <th>ReferenceDate</th>\n",
       "      <th>NewRecovered</th>\n",
       "      <th>RecoveredNumber</th>\n",
       "      <th>IsDayofSickening</th>\n",
       "    </tr>\n",
       "  </thead>\n",
       "  <tbody>\n",
       "    <tr>\n",
       "      <th>0</th>\n",
       "      <td>1</td>\n",
       "      <td>A00-A04</td>\n",
       "      <td>M</td>\n",
       "      <td>1</td>\n",
       "      <td>0</td>\n",
       "      <td>2020-09-30</td>\n",
       "      <td>1001</td>\n",
       "      <td>0</td>\n",
       "      <td>-9</td>\n",
       "      <td>2020/09/30 00:00:00</td>\n",
       "      <td>0</td>\n",
       "      <td>1</td>\n",
       "      <td>0</td>\n",
       "    </tr>\n",
       "    <tr>\n",
       "      <th>1</th>\n",
       "      <td>1</td>\n",
       "      <td>A00-A04</td>\n",
       "      <td>M</td>\n",
       "      <td>1</td>\n",
       "      <td>0</td>\n",
       "      <td>2020-10-29</td>\n",
       "      <td>1001</td>\n",
       "      <td>0</td>\n",
       "      <td>-9</td>\n",
       "      <td>2020/10/29 00:00:00</td>\n",
       "      <td>0</td>\n",
       "      <td>1</td>\n",
       "      <td>0</td>\n",
       "    </tr>\n",
       "    <tr>\n",
       "      <th>2</th>\n",
       "      <td>1</td>\n",
       "      <td>A00-A04</td>\n",
       "      <td>M</td>\n",
       "      <td>1</td>\n",
       "      <td>0</td>\n",
       "      <td>2020-11-03</td>\n",
       "      <td>1001</td>\n",
       "      <td>0</td>\n",
       "      <td>-9</td>\n",
       "      <td>2020/11/03 00:00:00</td>\n",
       "      <td>1</td>\n",
       "      <td>1</td>\n",
       "      <td>0</td>\n",
       "    </tr>\n",
       "    <tr>\n",
       "      <th>3</th>\n",
       "      <td>1</td>\n",
       "      <td>A00-A04</td>\n",
       "      <td>W</td>\n",
       "      <td>1</td>\n",
       "      <td>0</td>\n",
       "      <td>2020-08-24</td>\n",
       "      <td>1001</td>\n",
       "      <td>0</td>\n",
       "      <td>-9</td>\n",
       "      <td>2020/08/24 00:00:00</td>\n",
       "      <td>0</td>\n",
       "      <td>1</td>\n",
       "      <td>0</td>\n",
       "    </tr>\n",
       "    <tr>\n",
       "      <th>4</th>\n",
       "      <td>1</td>\n",
       "      <td>A00-A04</td>\n",
       "      <td>W</td>\n",
       "      <td>1</td>\n",
       "      <td>0</td>\n",
       "      <td>2020-09-26</td>\n",
       "      <td>1001</td>\n",
       "      <td>0</td>\n",
       "      <td>-9</td>\n",
       "      <td>2020/09/26 00:00:00</td>\n",
       "      <td>0</td>\n",
       "      <td>1</td>\n",
       "      <td>0</td>\n",
       "    </tr>\n",
       "  </tbody>\n",
       "</table>\n",
       "</div>"
      ],
      "text/plain": [
       "   IdState AgeGroup Sex  CaseNumber  DeathNumber DateOfNotice  IdCounty  \\\n",
       "0        1  A00-A04   M           1            0   2020-09-30      1001   \n",
       "1        1  A00-A04   M           1            0   2020-10-29      1001   \n",
       "2        1  A00-A04   M           1            0   2020-11-03      1001   \n",
       "3        1  A00-A04   W           1            0   2020-08-24      1001   \n",
       "4        1  A00-A04   W           1            0   2020-09-26      1001   \n",
       "\n",
       "   NewCase  NewDeath        ReferenceDate  NewRecovered  RecoveredNumber  \\\n",
       "0        0        -9  2020/09/30 00:00:00             0                1   \n",
       "1        0        -9  2020/10/29 00:00:00             0                1   \n",
       "2        0        -9  2020/11/03 00:00:00             1                1   \n",
       "3        0        -9  2020/08/24 00:00:00             0                1   \n",
       "4        0        -9  2020/09/26 00:00:00             0                1   \n",
       "\n",
       "   IsDayofSickening  \n",
       "0                 0  \n",
       "1                 0  \n",
       "2                 0  \n",
       "3                 0  \n",
       "4                 0  "
      ]
     },
     "execution_count": 57,
     "metadata": {},
     "output_type": "execute_result"
    }
   ],
   "source": [
    "df_new.head()"
   ]
  },
  {
   "cell_type": "code",
   "execution_count": 63,
   "metadata": {},
   "outputs": [
    {
     "data": {
      "text/html": [
       "<div>\n",
       "<style scoped>\n",
       "    .dataframe tbody tr th:only-of-type {\n",
       "        vertical-align: middle;\n",
       "    }\n",
       "\n",
       "    .dataframe tbody tr th {\n",
       "        vertical-align: top;\n",
       "    }\n",
       "\n",
       "    .dataframe thead th {\n",
       "        text-align: right;\n",
       "    }\n",
       "</style>\n",
       "<table border=\"1\" class=\"dataframe\">\n",
       "  <thead>\n",
       "    <tr style=\"text-align: right;\">\n",
       "      <th></th>\n",
       "      <th>IdState</th>\n",
       "      <th>AgeGroup</th>\n",
       "      <th>Sex</th>\n",
       "      <th>CaseNumber</th>\n",
       "      <th>DeathNumber</th>\n",
       "      <th>DateOfNotice</th>\n",
       "      <th>IdCounty</th>\n",
       "      <th>NewCase</th>\n",
       "      <th>NewDeath</th>\n",
       "      <th>ReferenceDate</th>\n",
       "      <th>NewRecovered</th>\n",
       "      <th>RecoveredNumber</th>\n",
       "      <th>IsDayofSickening</th>\n",
       "    </tr>\n",
       "  </thead>\n",
       "  <tbody>\n",
       "    <tr>\n",
       "      <th>0</th>\n",
       "      <td>1</td>\n",
       "      <td>A00-A04</td>\n",
       "      <td>M</td>\n",
       "      <td>1</td>\n",
       "      <td>0</td>\n",
       "      <td>2020-09-30</td>\n",
       "      <td>1001</td>\n",
       "      <td>0</td>\n",
       "      <td>-9</td>\n",
       "      <td>2020-09-30</td>\n",
       "      <td>0</td>\n",
       "      <td>1</td>\n",
       "      <td>0</td>\n",
       "    </tr>\n",
       "    <tr>\n",
       "      <th>1</th>\n",
       "      <td>1</td>\n",
       "      <td>A00-A04</td>\n",
       "      <td>M</td>\n",
       "      <td>1</td>\n",
       "      <td>0</td>\n",
       "      <td>2020-10-29</td>\n",
       "      <td>1001</td>\n",
       "      <td>0</td>\n",
       "      <td>-9</td>\n",
       "      <td>2020-10-29</td>\n",
       "      <td>0</td>\n",
       "      <td>1</td>\n",
       "      <td>0</td>\n",
       "    </tr>\n",
       "    <tr>\n",
       "      <th>2</th>\n",
       "      <td>1</td>\n",
       "      <td>A00-A04</td>\n",
       "      <td>M</td>\n",
       "      <td>1</td>\n",
       "      <td>0</td>\n",
       "      <td>2020-11-03</td>\n",
       "      <td>1001</td>\n",
       "      <td>0</td>\n",
       "      <td>-9</td>\n",
       "      <td>2020-11-03</td>\n",
       "      <td>1</td>\n",
       "      <td>1</td>\n",
       "      <td>0</td>\n",
       "    </tr>\n",
       "    <tr>\n",
       "      <th>3</th>\n",
       "      <td>1</td>\n",
       "      <td>A00-A04</td>\n",
       "      <td>W</td>\n",
       "      <td>1</td>\n",
       "      <td>0</td>\n",
       "      <td>2020-08-24</td>\n",
       "      <td>1001</td>\n",
       "      <td>0</td>\n",
       "      <td>-9</td>\n",
       "      <td>2020-08-24</td>\n",
       "      <td>0</td>\n",
       "      <td>1</td>\n",
       "      <td>0</td>\n",
       "    </tr>\n",
       "    <tr>\n",
       "      <th>4</th>\n",
       "      <td>1</td>\n",
       "      <td>A00-A04</td>\n",
       "      <td>W</td>\n",
       "      <td>1</td>\n",
       "      <td>0</td>\n",
       "      <td>2020-09-26</td>\n",
       "      <td>1001</td>\n",
       "      <td>0</td>\n",
       "      <td>-9</td>\n",
       "      <td>2020-09-26</td>\n",
       "      <td>0</td>\n",
       "      <td>1</td>\n",
       "      <td>0</td>\n",
       "    </tr>\n",
       "    <tr>\n",
       "      <th>...</th>\n",
       "      <td>...</td>\n",
       "      <td>...</td>\n",
       "      <td>...</td>\n",
       "      <td>...</td>\n",
       "      <td>...</td>\n",
       "      <td>...</td>\n",
       "      <td>...</td>\n",
       "      <td>...</td>\n",
       "      <td>...</td>\n",
       "      <td>...</td>\n",
       "      <td>...</td>\n",
       "      <td>...</td>\n",
       "      <td>...</td>\n",
       "    </tr>\n",
       "    <tr>\n",
       "      <th>248</th>\n",
       "      <td>1</td>\n",
       "      <td>A80+</td>\n",
       "      <td>M</td>\n",
       "      <td>1</td>\n",
       "      <td>1</td>\n",
       "      <td>2020-03-31</td>\n",
       "      <td>1001</td>\n",
       "      <td>0</td>\n",
       "      <td>0</td>\n",
       "      <td>2020-03-21</td>\n",
       "      <td>-9</td>\n",
       "      <td>0</td>\n",
       "      <td>1</td>\n",
       "    </tr>\n",
       "    <tr>\n",
       "      <th>249</th>\n",
       "      <td>1</td>\n",
       "      <td>A80+</td>\n",
       "      <td>W</td>\n",
       "      <td>1</td>\n",
       "      <td>0</td>\n",
       "      <td>2020-03-30</td>\n",
       "      <td>1001</td>\n",
       "      <td>0</td>\n",
       "      <td>-9</td>\n",
       "      <td>2020-03-26</td>\n",
       "      <td>0</td>\n",
       "      <td>1</td>\n",
       "      <td>1</td>\n",
       "    </tr>\n",
       "    <tr>\n",
       "      <th>250</th>\n",
       "      <td>1</td>\n",
       "      <td>NaN</td>\n",
       "      <td>M</td>\n",
       "      <td>2</td>\n",
       "      <td>0</td>\n",
       "      <td>2020-10-30</td>\n",
       "      <td>1001</td>\n",
       "      <td>0</td>\n",
       "      <td>-9</td>\n",
       "      <td>2020-10-30</td>\n",
       "      <td>-9</td>\n",
       "      <td>0</td>\n",
       "      <td>0</td>\n",
       "    </tr>\n",
       "    <tr>\n",
       "      <th>251</th>\n",
       "      <td>1</td>\n",
       "      <td>NaN</td>\n",
       "      <td>NaN</td>\n",
       "      <td>1</td>\n",
       "      <td>0</td>\n",
       "      <td>2020-11-02</td>\n",
       "      <td>1001</td>\n",
       "      <td>0</td>\n",
       "      <td>-9</td>\n",
       "      <td>2020-10-28</td>\n",
       "      <td>-9</td>\n",
       "      <td>0</td>\n",
       "      <td>1</td>\n",
       "    </tr>\n",
       "    <tr>\n",
       "      <th>252</th>\n",
       "      <td>1</td>\n",
       "      <td>NaN</td>\n",
       "      <td>W</td>\n",
       "      <td>1</td>\n",
       "      <td>0</td>\n",
       "      <td>2020-10-23</td>\n",
       "      <td>1001</td>\n",
       "      <td>0</td>\n",
       "      <td>-9</td>\n",
       "      <td>2020-10-20</td>\n",
       "      <td>0</td>\n",
       "      <td>1</td>\n",
       "      <td>1</td>\n",
       "    </tr>\n",
       "  </tbody>\n",
       "</table>\n",
       "<p>253 rows × 13 columns</p>\n",
       "</div>"
      ],
      "text/plain": [
       "     IdState AgeGroup  Sex  CaseNumber  DeathNumber DateOfNotice  IdCounty  \\\n",
       "0          1  A00-A04    M           1            0   2020-09-30      1001   \n",
       "1          1  A00-A04    M           1            0   2020-10-29      1001   \n",
       "2          1  A00-A04    M           1            0   2020-11-03      1001   \n",
       "3          1  A00-A04    W           1            0   2020-08-24      1001   \n",
       "4          1  A00-A04    W           1            0   2020-09-26      1001   \n",
       "..       ...      ...  ...         ...          ...          ...       ...   \n",
       "248        1     A80+    M           1            1   2020-03-31      1001   \n",
       "249        1     A80+    W           1            0   2020-03-30      1001   \n",
       "250        1      NaN    M           2            0   2020-10-30      1001   \n",
       "251        1      NaN  NaN           1            0   2020-11-02      1001   \n",
       "252        1      NaN    W           1            0   2020-10-23      1001   \n",
       "\n",
       "     NewCase  NewDeath ReferenceDate  NewRecovered  RecoveredNumber  \\\n",
       "0          0        -9    2020-09-30             0                1   \n",
       "1          0        -9    2020-10-29             0                1   \n",
       "2          0        -9    2020-11-03             1                1   \n",
       "3          0        -9    2020-08-24             0                1   \n",
       "4          0        -9    2020-09-26             0                1   \n",
       "..       ...       ...           ...           ...              ...   \n",
       "248        0         0    2020-03-21            -9                0   \n",
       "249        0        -9    2020-03-26             0                1   \n",
       "250        0        -9    2020-10-30            -9                0   \n",
       "251        0        -9    2020-10-28            -9                0   \n",
       "252        0        -9    2020-10-20             0                1   \n",
       "\n",
       "     IsDayofSickening  \n",
       "0                   0  \n",
       "1                   0  \n",
       "2                   0  \n",
       "3                   0  \n",
       "4                   0  \n",
       "..                ...  \n",
       "248                 1  \n",
       "249                 1  \n",
       "250                 0  \n",
       "251                 1  \n",
       "252                 1  \n",
       "\n",
       "[253 rows x 13 columns]"
      ]
     },
     "execution_count": 63,
     "metadata": {},
     "output_type": "execute_result"
    }
   ],
   "source": [
    "df_new[df_new['IdCounty']==1001]"
   ]
  },
  {
   "cell_type": "code",
   "execution_count": 62,
   "metadata": {},
   "outputs": [],
   "source": [
    "df_new.replace('unbekannt', np.nan, inplace=True)"
   ]
  },
  {
   "cell_type": "code",
   "execution_count": 65,
   "metadata": {
    "scrolled": false
   },
   "outputs": [
    {
     "data": {
      "text/html": [
       "<div>\n",
       "<style scoped>\n",
       "    .dataframe tbody tr th:only-of-type {\n",
       "        vertical-align: middle;\n",
       "    }\n",
       "\n",
       "    .dataframe tbody tr th {\n",
       "        vertical-align: top;\n",
       "    }\n",
       "\n",
       "    .dataframe thead th {\n",
       "        text-align: right;\n",
       "    }\n",
       "</style>\n",
       "<table border=\"1\" class=\"dataframe\">\n",
       "  <thead>\n",
       "    <tr style=\"text-align: right;\">\n",
       "      <th></th>\n",
       "      <th>IdState</th>\n",
       "      <th>AgeGroup</th>\n",
       "      <th>Sex</th>\n",
       "      <th>CaseNumber</th>\n",
       "      <th>DeathNumber</th>\n",
       "      <th>DateOfNotice</th>\n",
       "      <th>IdCounty</th>\n",
       "      <th>NewCase</th>\n",
       "      <th>NewDeath</th>\n",
       "      <th>ReferenceDate</th>\n",
       "      <th>NewRecovered</th>\n",
       "      <th>RecoveredNumber</th>\n",
       "      <th>IsDayofSickening</th>\n",
       "    </tr>\n",
       "  </thead>\n",
       "  <tbody>\n",
       "    <tr>\n",
       "      <th>137</th>\n",
       "      <td>1</td>\n",
       "      <td>A35-A59</td>\n",
       "      <td>M</td>\n",
       "      <td>1</td>\n",
       "      <td>0</td>\n",
       "      <td>2020-03-14</td>\n",
       "      <td>1001</td>\n",
       "      <td>0</td>\n",
       "      <td>-9</td>\n",
       "      <td>2020-03-16</td>\n",
       "      <td>0</td>\n",
       "      <td>1</td>\n",
       "      <td>1</td>\n",
       "    </tr>\n",
       "    <tr>\n",
       "      <th>178</th>\n",
       "      <td>1</td>\n",
       "      <td>A35-A59</td>\n",
       "      <td>W</td>\n",
       "      <td>1</td>\n",
       "      <td>0</td>\n",
       "      <td>2020-03-14</td>\n",
       "      <td>1001</td>\n",
       "      <td>0</td>\n",
       "      <td>-9</td>\n",
       "      <td>2020-03-10</td>\n",
       "      <td>0</td>\n",
       "      <td>1</td>\n",
       "      <td>1</td>\n",
       "    </tr>\n",
       "    <tr>\n",
       "      <th>81</th>\n",
       "      <td>1</td>\n",
       "      <td>A15-A34</td>\n",
       "      <td>W</td>\n",
       "      <td>1</td>\n",
       "      <td>0</td>\n",
       "      <td>2020-03-14</td>\n",
       "      <td>1001</td>\n",
       "      <td>0</td>\n",
       "      <td>-9</td>\n",
       "      <td>2020-03-12</td>\n",
       "      <td>0</td>\n",
       "      <td>1</td>\n",
       "      <td>1</td>\n",
       "    </tr>\n",
       "    <tr>\n",
       "      <th>23</th>\n",
       "      <td>1</td>\n",
       "      <td>A15-A34</td>\n",
       "      <td>M</td>\n",
       "      <td>1</td>\n",
       "      <td>0</td>\n",
       "      <td>2020-03-14</td>\n",
       "      <td>1001</td>\n",
       "      <td>0</td>\n",
       "      <td>-9</td>\n",
       "      <td>2020-03-16</td>\n",
       "      <td>0</td>\n",
       "      <td>1</td>\n",
       "      <td>1</td>\n",
       "    </tr>\n",
       "    <tr>\n",
       "      <th>83</th>\n",
       "      <td>1</td>\n",
       "      <td>A15-A34</td>\n",
       "      <td>W</td>\n",
       "      <td>1</td>\n",
       "      <td>0</td>\n",
       "      <td>2020-03-18</td>\n",
       "      <td>1001</td>\n",
       "      <td>0</td>\n",
       "      <td>-9</td>\n",
       "      <td>2020-03-15</td>\n",
       "      <td>0</td>\n",
       "      <td>1</td>\n",
       "      <td>1</td>\n",
       "    </tr>\n",
       "    <tr>\n",
       "      <th>...</th>\n",
       "      <td>...</td>\n",
       "      <td>...</td>\n",
       "      <td>...</td>\n",
       "      <td>...</td>\n",
       "      <td>...</td>\n",
       "      <td>...</td>\n",
       "      <td>...</td>\n",
       "      <td>...</td>\n",
       "      <td>...</td>\n",
       "      <td>...</td>\n",
       "      <td>...</td>\n",
       "      <td>...</td>\n",
       "      <td>...</td>\n",
       "    </tr>\n",
       "    <tr>\n",
       "      <th>175</th>\n",
       "      <td>1</td>\n",
       "      <td>A35-A59</td>\n",
       "      <td>M</td>\n",
       "      <td>1</td>\n",
       "      <td>0</td>\n",
       "      <td>2020-11-13</td>\n",
       "      <td>1001</td>\n",
       "      <td>0</td>\n",
       "      <td>-9</td>\n",
       "      <td>2020-11-08</td>\n",
       "      <td>-9</td>\n",
       "      <td>0</td>\n",
       "      <td>1</td>\n",
       "    </tr>\n",
       "    <tr>\n",
       "      <th>227</th>\n",
       "      <td>1</td>\n",
       "      <td>A35-A59</td>\n",
       "      <td>W</td>\n",
       "      <td>1</td>\n",
       "      <td>0</td>\n",
       "      <td>2020-11-13</td>\n",
       "      <td>1001</td>\n",
       "      <td>0</td>\n",
       "      <td>-9</td>\n",
       "      <td>2020-11-08</td>\n",
       "      <td>-9</td>\n",
       "      <td>0</td>\n",
       "      <td>1</td>\n",
       "    </tr>\n",
       "    <tr>\n",
       "      <th>136</th>\n",
       "      <td>1</td>\n",
       "      <td>A15-A34</td>\n",
       "      <td>W</td>\n",
       "      <td>1</td>\n",
       "      <td>0</td>\n",
       "      <td>2020-11-14</td>\n",
       "      <td>1001</td>\n",
       "      <td>0</td>\n",
       "      <td>-9</td>\n",
       "      <td>2020-11-11</td>\n",
       "      <td>-9</td>\n",
       "      <td>0</td>\n",
       "      <td>1</td>\n",
       "    </tr>\n",
       "    <tr>\n",
       "      <th>177</th>\n",
       "      <td>1</td>\n",
       "      <td>A35-A59</td>\n",
       "      <td>M</td>\n",
       "      <td>1</td>\n",
       "      <td>0</td>\n",
       "      <td>2020-11-15</td>\n",
       "      <td>1001</td>\n",
       "      <td>0</td>\n",
       "      <td>-9</td>\n",
       "      <td>2020-11-15</td>\n",
       "      <td>-9</td>\n",
       "      <td>0</td>\n",
       "      <td>0</td>\n",
       "    </tr>\n",
       "    <tr>\n",
       "      <th>229</th>\n",
       "      <td>1</td>\n",
       "      <td>A35-A59</td>\n",
       "      <td>W</td>\n",
       "      <td>1</td>\n",
       "      <td>0</td>\n",
       "      <td>2020-11-15</td>\n",
       "      <td>1001</td>\n",
       "      <td>0</td>\n",
       "      <td>-9</td>\n",
       "      <td>2020-11-11</td>\n",
       "      <td>-9</td>\n",
       "      <td>0</td>\n",
       "      <td>1</td>\n",
       "    </tr>\n",
       "  </tbody>\n",
       "</table>\n",
       "<p>253 rows × 13 columns</p>\n",
       "</div>"
      ],
      "text/plain": [
       "     IdState AgeGroup Sex  CaseNumber  DeathNumber DateOfNotice  IdCounty  \\\n",
       "137        1  A35-A59   M           1            0   2020-03-14      1001   \n",
       "178        1  A35-A59   W           1            0   2020-03-14      1001   \n",
       "81         1  A15-A34   W           1            0   2020-03-14      1001   \n",
       "23         1  A15-A34   M           1            0   2020-03-14      1001   \n",
       "83         1  A15-A34   W           1            0   2020-03-18      1001   \n",
       "..       ...      ...  ..         ...          ...          ...       ...   \n",
       "175        1  A35-A59   M           1            0   2020-11-13      1001   \n",
       "227        1  A35-A59   W           1            0   2020-11-13      1001   \n",
       "136        1  A15-A34   W           1            0   2020-11-14      1001   \n",
       "177        1  A35-A59   M           1            0   2020-11-15      1001   \n",
       "229        1  A35-A59   W           1            0   2020-11-15      1001   \n",
       "\n",
       "     NewCase  NewDeath ReferenceDate  NewRecovered  RecoveredNumber  \\\n",
       "137        0        -9    2020-03-16             0                1   \n",
       "178        0        -9    2020-03-10             0                1   \n",
       "81         0        -9    2020-03-12             0                1   \n",
       "23         0        -9    2020-03-16             0                1   \n",
       "83         0        -9    2020-03-15             0                1   \n",
       "..       ...       ...           ...           ...              ...   \n",
       "175        0        -9    2020-11-08            -9                0   \n",
       "227        0        -9    2020-11-08            -9                0   \n",
       "136        0        -9    2020-11-11            -9                0   \n",
       "177        0        -9    2020-11-15            -9                0   \n",
       "229        0        -9    2020-11-11            -9                0   \n",
       "\n",
       "     IsDayofSickening  \n",
       "137                 1  \n",
       "178                 1  \n",
       "81                  1  \n",
       "23                  1  \n",
       "83                  1  \n",
       "..                ...  \n",
       "175                 1  \n",
       "227                 1  \n",
       "136                 1  \n",
       "177                 0  \n",
       "229                 1  \n",
       "\n",
       "[253 rows x 13 columns]"
      ]
     },
     "execution_count": 65,
     "metadata": {},
     "output_type": "execute_result"
    }
   ],
   "source": [
    "df_new[df_new['IdCounty']==1001].sort_values(['DateOfNotice'])"
   ]
  },
  {
   "cell_type": "code",
   "execution_count": 82,
   "metadata": {},
   "outputs": [
    {
     "data": {
      "text/plain": [
       "<AxesSubplot:xlabel='DateOfNotice'>"
      ]
     },
     "execution_count": 82,
     "metadata": {},
     "output_type": "execute_result"
    },
    {
     "data": {
      "image/png": "[encoded data removed]",
      "text/plain": [
       "<Figure size 432x288 with 1 Axes>"
      ]
     },
     "metadata": {
      "needs_background": "light"
     },
     "output_type": "display_data"
    }
   ],
   "source": [
    "df_new[df_new['IdCounty']==1001].groupby('DateOfNotice', axis=0).sum()['CaseNumber'].plot()"
   ]
  },
  {
   "cell_type": "code",
   "execution_count": null,
   "metadata": {},
   "outputs": [],
   "source": []
  },
  {
   "cell_type": "code",
   "execution_count": 287,
   "metadata": {},
   "outputs": [
    {
     "data": {
      "text/plain": [
       "DateOfNotice\n",
       "2020-01-03             NaN\n",
       "2020-01-13             NaN\n",
       "2020-01-28             NaN\n",
       "2020-01-29        2.428571\n",
       "2020-01-31        2.428571\n",
       "                  ...     \n",
       "2020-11-12    17841.428571\n",
       "2020-11-13    16778.571429\n",
       "2020-11-14             NaN\n",
       "2020-11-15             NaN\n",
       "2020-11-16             NaN\n",
       "Name: CaseNumber, Length: 279, dtype: float64"
      ]
     },
     "execution_count": 287,
     "metadata": {},
     "output_type": "execute_result"
    }
   ],
   "source": [
    "ds_casenum = df_new.groupby('DateOfNotice', axis=0).sum()['CaseNumber'].rolling(window=7, center=True).mean()\n",
    "#ds_casenum = ds_casenum[ds_casenum.index.month>2]\n",
    "ds_casenum"
   ]
  },
  {
   "cell_type": "code",
   "execution_count": 288,
   "metadata": {},
   "outputs": [
    {
     "data": {
      "text/plain": [
       "ReferenceDate\n",
       "2020-01-01            NaN\n",
       "2020-01-02            NaN\n",
       "2020-01-03            NaN\n",
       "2020-01-04       5.285714\n",
       "2020-01-06       2.571429\n",
       "                 ...     \n",
       "2020-11-12    2064.285714\n",
       "2020-11-13    1425.428571\n",
       "2020-11-14            NaN\n",
       "2020-11-15            NaN\n",
       "2020-11-16            NaN\n",
       "Name: CaseNumber, Length: 318, dtype: float64"
      ]
     },
     "execution_count": 288,
     "metadata": {},
     "output_type": "execute_result"
    }
   ],
   "source": [
    "ds_casenumref = df_new[df_new['IsDayofSickening']==1].groupby('ReferenceDate', axis=0).sum()['CaseNumber'].rolling(window=7, center=True).mean()\n",
    "#ds_casenumref = ds_casenumref[ds_casenumref.index.month>2]\n",
    "ds_casenumref"
   ]
  },
  {
   "cell_type": "code",
   "execution_count": 289,
   "metadata": {},
   "outputs": [
    {
     "data": {
      "text/plain": [
       "[<matplotlib.lines.Line2D at 0x7f1716de72e0>]"
      ]
     },
     "execution_count": 289,
     "metadata": {},
     "output_type": "execute_result"
    },
    {
     "data": {
      "image/png": "[encoded data removed]",
      "text/plain": [
       "<Figure size 432x288 with 1 Axes>"
      ]
     },
     "metadata": {
      "needs_background": "light"
     },
     "output_type": "display_data"
    }
   ],
   "source": [
    "def cross_corr_shift(series1, series2, timeshift):\n",
    "    return series1.corr(series2.shift(timeshift))\n",
    "\n",
    "shift = np.arange(-20,20,1)\n",
    "\n",
    "corr_shift = [cross_corr_shift(ds_casenum, ds_casenumref, t) for t in shift]\n",
    "\n",
    "plt.plot(shift, corr_shift)"
   ]
  },
  {
   "cell_type": "code",
   "execution_count": 161,
   "metadata": {},
   "outputs": [],
   "source": [
    "ds_deathnum = df_new.groupby('ReferenceDate', axis=0).sum()['DeathNumber'].rolling(window=7, center=True).mean()"
   ]
  },
  {
   "cell_type": "code",
   "execution_count": 295,
   "metadata": {},
   "outputs": [
    {
     "data": {
      "text/plain": [
       "8"
      ]
     },
     "execution_count": 295,
     "metadata": {},
     "output_type": "execute_result"
    }
   ],
   "source": [
    "shift[np.argmax(corr_shift)]"
   ]
  },
  {
   "cell_type": "code",
   "execution_count": null,
   "metadata": {},
   "outputs": [],
   "source": []
  },
  {
   "cell_type": "code",
   "execution_count": 262,
   "metadata": {
    "scrolled": false
   },
   "outputs": [
    {
     "data": {
      "text/plain": [
       "(0.0, 19298.028571428575)"
      ]
     },
     "execution_count": 262,
     "metadata": {},
     "output_type": "execute_result"
    },
    {
     "data": {
      "image/png": "[encoded data removed]",
      "text/plain": [
       "<Figure size 720x432 with 1 Axes>"
      ]
     },
     "metadata": {
      "needs_background": "light"
     },
     "output_type": "display_data"
    }
   ],
   "source": [
    "fig, ax = plt.subplots(figsize=(10,6))\n",
    "\n",
    "\n",
    "ax.plot(ds_casenum.index, ds_casenum)\n",
    "ax.plot(ds_casenumref.index, ds_casenumref)\n",
    "ax.scatter(ds_casenum[peaks_casenum[0]].index, ds_casenum[peaks_casenum[0]], color='red')\n",
    "ax.scatter(ds_casenumref[peaks_casenumref[0]].index, ds_casenumref[peaks_casenumref[0]], color='green')\n",
    "ax.set_ylim(bottom=0)"
   ]
  },
  {
   "cell_type": "code",
   "execution_count": 165,
   "metadata": {},
   "outputs": [
    {
     "data": {
      "text/plain": [
       "Timestamp('2020-11-09 00:00:00')"
      ]
     },
     "execution_count": 165,
     "metadata": {},
     "output_type": "execute_result"
    }
   ],
   "source": [
    "ds_casenum.idxmax()"
   ]
  },
  {
   "cell_type": "code",
   "execution_count": 166,
   "metadata": {},
   "outputs": [
    {
     "data": {
      "text/plain": [
       "Timestamp('2020-10-25 00:00:00')"
      ]
     },
     "execution_count": 166,
     "metadata": {},
     "output_type": "execute_result"
    }
   ],
   "source": [
    "ds_casenumref.idxmax()"
   ]
  },
  {
   "cell_type": "code",
   "execution_count": 169,
   "metadata": {},
   "outputs": [],
   "source": [
    "from scipy.signal import find_peaks"
   ]
  },
  {
   "cell_type": "code",
   "execution_count": 260,
   "metadata": {},
   "outputs": [],
   "source": [
    "peaks_casenum = find_peaks(ds_casenum, threshold=5, prominence=50)\n",
    "peaks_casenumref = find_peaks(ds_casenumref, threshold=2, prominence=30)"
   ]
  },
  {
   "cell_type": "code",
   "execution_count": 261,
   "metadata": {},
   "outputs": [
    {
     "data": {
      "text/plain": [
       "array([ 48, 190, 266, 271])"
      ]
     },
     "metadata": {},
     "output_type": "display_data"
    },
    {
     "data": {
      "text/plain": [
       "array([ 73, 234, 295])"
      ]
     },
     "metadata": {},
     "output_type": "display_data"
    }
   ],
   "source": [
    "display(peaks_casenum[0])\n",
    "display(peaks_casenumref[0])"
   ]
  },
  {
   "cell_type": "code",
   "execution_count": 254,
   "metadata": {},
   "outputs": [
    {
     "data": {
      "text/plain": [
       "DateOfNotice\n",
       "2020-03-31     5287.142857\n",
       "2020-04-17     2497.714286\n",
       "2020-05-25      471.428571\n",
       "2020-09-16     1761.000000\n",
       "2020-09-18     1775.142857\n",
       "2020-11-04    17970.142857\n",
       "2020-11-09    18379.142857\n",
       "Name: CaseNumber, dtype: float64"
      ]
     },
     "execution_count": 254,
     "metadata": {},
     "output_type": "execute_result"
    }
   ],
   "source": [
    "ds_casenum[peaks_casenum[0]]"
   ]
  },
  {
   "cell_type": "code",
   "execution_count": 210,
   "metadata": {},
   "outputs": [
    {
     "data": {
      "text/plain": [
       "DatetimeIndex(['2020-03-31', '2020-06-20', '2020-08-20', '2020-11-04',\n",
       "               '2020-11-09'],\n",
       "              dtype='datetime64[ns]', name='DateOfNotice', freq=None)"
      ]
     },
     "execution_count": 210,
     "metadata": {},
     "output_type": "execute_result"
    }
   ],
   "source": [
    "ds_casenum[peaks_casenum[0]].index"
   ]
  },
  {
   "cell_type": "code",
   "execution_count": 211,
   "metadata": {},
   "outputs": [
    {
     "data": {
      "text/plain": [
       "DatetimeIndex(['2020-03-17', '2020-06-18', '2020-08-15', '2020-10-25'], dtype='datetime64[ns]', name='ReferenceDate', freq=None)"
      ]
     },
     "execution_count": 211,
     "metadata": {},
     "output_type": "execute_result"
    }
   ],
   "source": [
    "ds_casenumref[peaks_casenumref[0]].index"
   ]
  },
  {
   "cell_type": "code",
   "execution_count": 212,
   "metadata": {},
   "outputs": [
    {
     "data": {
      "text/plain": [
       "[14, 2, 5, 10]"
      ]
     },
     "execution_count": 212,
     "metadata": {},
     "output_type": "execute_result"
    }
   ],
   "source": [
    "[31-17, 20-18, 20-15, 31+4-25]"
   ]
  },
  {
   "cell_type": "code",
   "execution_count": 273,
   "metadata": {},
   "outputs": [
    {
     "data": {
      "text/plain": [
       "DatetimeIndex(['2020-03-01', '2020-03-02', '2020-03-03', '2020-03-04',\n",
       "               '2020-03-05', '2020-03-06', '2020-03-07', '2020-03-08',\n",
       "               '2020-03-09', '2020-03-10',\n",
       "               ...\n",
       "               '2020-11-07', '2020-11-08', '2020-11-09', '2020-11-10',\n",
       "               '2020-11-11', '2020-11-12', '2020-11-13', '2020-11-14',\n",
       "               '2020-11-15', '2020-11-16'],\n",
       "              dtype='datetime64[ns]', name='DateOfNotice', length=261, freq=None)"
      ]
     },
     "execution_count": 273,
     "metadata": {},
     "output_type": "execute_result"
    }
   ],
   "source": [
    "ds_casenum[ds_casenum.index.month>2].index"
   ]
  },
  {
   "cell_type": "code",
   "execution_count": null,
   "metadata": {},
   "outputs": [],
   "source": []
  }
 ],
 "metadata": {
  "kernelspec": {
   "display_name": "p38",
   "language": "python",
   "name": "p38"
  },
  "language_info": {
   "codemirror_mode": {
    "name": "ipython",
    "version": 3
   },
   "file_extension": ".py",
   "mimetype": "text/x-python",
   "name": "python",
   "nbconvert_exporter": "python",
   "pygments_lexer": "ipython3",
   "version": "3.8.5"
  }
 },
 "nbformat": 4,
 "nbformat_minor": 2
}
